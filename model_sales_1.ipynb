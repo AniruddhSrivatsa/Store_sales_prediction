{
  "nbformat": 4,
  "nbformat_minor": 0,
  "metadata": {
    "colab": {
      "name": "model_sales.ipynb",
      "provenance": [],
      "collapsed_sections": []
    },
    "kernelspec": {
      "name": "python3",
      "display_name": "Python 3"
    },
    "language_info": {
      "name": "python"
    }
  },
  "cells": [
    {
      "cell_type": "code",
      "metadata": {
        "id": "r5pN1CEjf_gD"
      },
      "source": [
        "from sklearn.linear_model import LinearRegression\n",
        "from sklearn.ensemble import RandomForestRegressor,ExtraTreesRegressor\n",
        "from sklearn.metrics import mean_absolute_error,mean_squared_error\n",
        "from sklearn.model_selection import train_test_split"
      ],
      "execution_count": null,
      "outputs": []
    },
    {
      "cell_type": "code",
      "metadata": {
        "id": "2oub_ZhUgNrG"
      },
      "source": [
        "import pandas as pd\n",
        "import numpy as np\n",
        "import seaborn as sns\n",
        "import matplotlib.pyplot as plt"
      ],
      "execution_count": null,
      "outputs": []
    },
    {
      "cell_type": "code",
      "metadata": {
        "colab": {
          "base_uri": "https://localhost:8080/",
          "height": 223
        },
        "id": "eZkWPHkbgRRf",
        "outputId": "3ed434a1-fbc0-41f9-a425-82ec461bdc0f"
      },
      "source": [
        "df=pd.read_csv(\"new_modifs.csv\")\n",
        "df.head()"
      ],
      "execution_count": null,
      "outputs": [
        {
          "output_type": "execute_result",
          "data": {
            "text/html": [
              "<div>\n",
              "<style scoped>\n",
              "    .dataframe tbody tr th:only-of-type {\n",
              "        vertical-align: middle;\n",
              "    }\n",
              "\n",
              "    .dataframe tbody tr th {\n",
              "        vertical-align: top;\n",
              "    }\n",
              "\n",
              "    .dataframe thead th {\n",
              "        text-align: right;\n",
              "    }\n",
              "</style>\n",
              "<table border=\"1\" class=\"dataframe\">\n",
              "  <thead>\n",
              "    <tr style=\"text-align: right;\">\n",
              "      <th></th>\n",
              "      <th>Item_Weight</th>\n",
              "      <th>Item_Fat_Content</th>\n",
              "      <th>Item_Visibility</th>\n",
              "      <th>Item_Type</th>\n",
              "      <th>Item_MRP</th>\n",
              "      <th>Outlet_Identifier</th>\n",
              "      <th>Outlet_Establishment_Year</th>\n",
              "      <th>Outlet_Size</th>\n",
              "      <th>Outlet_Location_Type</th>\n",
              "      <th>Outlet_Type</th>\n",
              "      <th>Item_Outlet_Sales</th>\n",
              "    </tr>\n",
              "  </thead>\n",
              "  <tbody>\n",
              "    <tr>\n",
              "      <th>0</th>\n",
              "      <td>-0.831187</td>\n",
              "      <td>0</td>\n",
              "      <td>-0.970732</td>\n",
              "      <td>4</td>\n",
              "      <td>1.747454</td>\n",
              "      <td>2</td>\n",
              "      <td>-0.139541</td>\n",
              "      <td>0</td>\n",
              "      <td>2</td>\n",
              "      <td>0</td>\n",
              "      <td>3735.1380</td>\n",
              "    </tr>\n",
              "    <tr>\n",
              "      <th>1</th>\n",
              "      <td>-1.630810</td>\n",
              "      <td>1</td>\n",
              "      <td>-0.908111</td>\n",
              "      <td>8</td>\n",
              "      <td>-1.489023</td>\n",
              "      <td>6</td>\n",
              "      <td>-1.334103</td>\n",
              "      <td>0</td>\n",
              "      <td>0</td>\n",
              "      <td>3</td>\n",
              "      <td>443.4228</td>\n",
              "    </tr>\n",
              "    <tr>\n",
              "      <th>2</th>\n",
              "      <td>1.108727</td>\n",
              "      <td>0</td>\n",
              "      <td>-0.956917</td>\n",
              "      <td>9</td>\n",
              "      <td>0.010040</td>\n",
              "      <td>2</td>\n",
              "      <td>-0.139541</td>\n",
              "      <td>0</td>\n",
              "      <td>2</td>\n",
              "      <td>0</td>\n",
              "      <td>2097.2700</td>\n",
              "    </tr>\n",
              "    <tr>\n",
              "      <th>3</th>\n",
              "      <td>1.510904</td>\n",
              "      <td>1</td>\n",
              "      <td>-1.281758</td>\n",
              "      <td>0</td>\n",
              "      <td>0.660050</td>\n",
              "      <td>8</td>\n",
              "      <td>-0.020085</td>\n",
              "      <td>0</td>\n",
              "      <td>0</td>\n",
              "      <td>1</td>\n",
              "      <td>732.3800</td>\n",
              "    </tr>\n",
              "    <tr>\n",
              "      <th>4</th>\n",
              "      <td>-0.918719</td>\n",
              "      <td>0</td>\n",
              "      <td>-1.281758</td>\n",
              "      <td>2</td>\n",
              "      <td>-1.399220</td>\n",
              "      <td>1</td>\n",
              "      <td>1.293934</td>\n",
              "      <td>2</td>\n",
              "      <td>0</td>\n",
              "      <td>0</td>\n",
              "      <td>994.7052</td>\n",
              "    </tr>\n",
              "  </tbody>\n",
              "</table>\n",
              "</div>"
            ],
            "text/plain": [
              "   Item_Weight  Item_Fat_Content  ...  Outlet_Type  Item_Outlet_Sales\n",
              "0    -0.831187                 0  ...            0          3735.1380\n",
              "1    -1.630810                 1  ...            3           443.4228\n",
              "2     1.108727                 0  ...            0          2097.2700\n",
              "3     1.510904                 1  ...            1           732.3800\n",
              "4    -0.918719                 0  ...            0           994.7052\n",
              "\n",
              "[5 rows x 11 columns]"
            ]
          },
          "metadata": {
            "tags": []
          },
          "execution_count": 3
        }
      ]
    },
    {
      "cell_type": "code",
      "metadata": {
        "id": "Pm1UPpzOghgQ"
      },
      "source": [
        "df1=df.copy()"
      ],
      "execution_count": null,
      "outputs": []
    },
    {
      "cell_type": "code",
      "metadata": {
        "id": "uq_MWfGOgkjw"
      },
      "source": [
        "df1.drop(\"Item_Outlet_Sales\",inplace=True,axis=1)"
      ],
      "execution_count": null,
      "outputs": []
    },
    {
      "cell_type": "code",
      "metadata": {
        "id": "eZ_-MxpQgee4"
      },
      "source": [
        "x=df1\n",
        "y=df[\"Item_Outlet_Sales\"]"
      ],
      "execution_count": null,
      "outputs": []
    },
    {
      "cell_type": "code",
      "metadata": {
        "id": "Fnk3Zx_Zgxpn"
      },
      "source": [
        "x_train,x_test,y_train,y_test=train_test_split(x,y,random_state=42,test_size=0.2)"
      ],
      "execution_count": null,
      "outputs": []
    },
    {
      "cell_type": "code",
      "metadata": {
        "id": "hi9vUsn9g6Ul"
      },
      "source": [
        "dictionary={}"
      ],
      "execution_count": null,
      "outputs": []
    },
    {
      "cell_type": "code",
      "metadata": {
        "id": "TrzxV_pxg2nl"
      },
      "source": [
        "def models(name):\n",
        "  st=str(name)\n",
        "  name.fit(x_train,y_train)\n",
        "  y_pred=name.predict(x_test)\n",
        "  mae=mean_absolute_error(y_pred,y_test)\n",
        "  print(mae,\"is the mean absolute error for\",st.split(\"(\")[0],\"\\n\")\n",
        "  print(\"-------------------------------------------------------\")\n",
        "  dictionary[st.split(\"(\")[0]]=mae\n"
      ],
      "execution_count": null,
      "outputs": []
    },
    {
      "cell_type": "code",
      "metadata": {
        "id": "5FxY6XGnhNPl"
      },
      "source": [
        "lr=LinearRegression()\n",
        "rfr=RandomForestRegressor(random_state=42)\n",
        "ext=ExtraTreesRegressor(random_state=42)"
      ],
      "execution_count": null,
      "outputs": []
    },
    {
      "cell_type": "code",
      "metadata": {
        "colab": {
          "base_uri": "https://localhost:8080/"
        },
        "id": "YuDvC5f3hUPr",
        "outputId": "607bb596-8b05-4efc-d8b1-f7e7f2165b4f"
      },
      "source": [
        "models(lr)\n",
        "models(rfr)\n",
        "models(ext)"
      ],
      "execution_count": null,
      "outputs": [
        {
          "output_type": "stream",
          "text": [
            "861.2842449751568 is the mean absolute error for LinearRegression \n",
            "\n",
            "-------------------------------------------------------\n",
            "754.1677172997067 is the mean absolute error for RandomForestRegressor \n",
            "\n",
            "-------------------------------------------------------\n",
            "771.7872063906158 is the mean absolute error for ExtraTreesRegressor \n",
            "\n",
            "-------------------------------------------------------\n"
          ],
          "name": "stdout"
        }
      ]
    },
    {
      "cell_type": "code",
      "metadata": {
        "colab": {
          "base_uri": "https://localhost:8080/"
        },
        "id": "sd-IxUq3JDZ-",
        "outputId": "59bf03bc-c6aa-4696-bd82-cfdd321faa7c"
      },
      "source": [
        "rft=RandomForestRegressor(n_estimators=250,min_samples_leaf=1,min_samples_split=140,random_state=42)\n",
        "models(rft)"
      ],
      "execution_count": null,
      "outputs": [
        {
          "output_type": "stream",
          "text": [
            "717.2639860830532 is the mean absolute error for RandomForestRegressor \n",
            "\n",
            "-------------------------------------------------------\n"
          ],
          "name": "stdout"
        }
      ]
    },
    {
      "cell_type": "code",
      "metadata": {
        "colab": {
          "base_uri": "https://localhost:8080/"
        },
        "id": "GAiq9wUiKozI",
        "outputId": "8f3f70e5-fa6c-4fa3-ca59-e5d95a6e7157"
      },
      "source": [
        "rft1=ExtraTreesRegressor(n_estimators=250,min_samples_leaf=1,min_samples_split=140,random_state=42)\n",
        "models(rft1)"
      ],
      "execution_count": null,
      "outputs": [
        {
          "output_type": "stream",
          "text": [
            "712.7600529932643 is the mean absolute error for ExtraTreesRegressor \n",
            "\n",
            "-------------------------------------------------------\n"
          ],
          "name": "stdout"
        }
      ]
    },
    {
      "cell_type": "code",
      "metadata": {
        "id": "oSxy_CBe2-n-"
      },
      "source": [
        "import joblib\n",
        "import pickle"
      ],
      "execution_count": null,
      "outputs": []
    },
    {
      "cell_type": "code",
      "metadata": {
        "id": "shRRf55z3ZfP"
      },
      "source": [
        "filename = 'treex.pkl'\n",
        "pickle.dump(rft1, open(filename, 'wb'))"
      ],
      "execution_count": null,
      "outputs": []
    },
    {
      "cell_type": "code",
      "metadata": {
        "id": "4EKIaCpV3kEn"
      },
      "source": [
        "me=pickle.load(open(filename,\"rb\"))"
      ],
      "execution_count": null,
      "outputs": []
    },
    {
      "cell_type": "code",
      "metadata": {
        "colab": {
          "base_uri": "https://localhost:8080/"
        },
        "id": "foBwzmOg3tU2",
        "outputId": "9a4f9e4d-42f2-476f-e964-086d1794de40"
      },
      "source": [
        "print(me.predict(x_test)[:5])\n",
        "print(y_test[:5])"
      ],
      "execution_count": null,
      "outputs": [
        {
          "output_type": "stream",
          "text": [
            "[1223.60459888  725.20074007  702.7906977  4687.94435532 3241.59812471]\n",
            "7503    1743.0644\n",
            "2957     356.8688\n",
            "7031     377.5086\n",
            "1084    5778.4782\n",
            "856     2356.9320\n",
            "Name: Item_Outlet_Sales, dtype: float64\n"
          ],
          "name": "stdout"
        }
      ]
    }
  ]
}